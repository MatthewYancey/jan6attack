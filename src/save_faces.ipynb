{
  "nbformat": 4,
  "nbformat_minor": 0,
  "metadata": {
    "colab": {
      "name": "save_faces.ipynb",
      "provenance": [],
      "authorship_tag": "ABX9TyNnuFfjmKqGgKYdEpeEKavx",
      "include_colab_link": true
    },
    "kernelspec": {
      "name": "python3",
      "display_name": "Python 3"
    },
    "language_info": {
      "name": "python"
    }
  },
  "cells": [
    {
      "cell_type": "markdown",
      "metadata": {
        "id": "view-in-github",
        "colab_type": "text"
      },
      "source": [
        "<a href=\"https://colab.research.google.com/github/MatthewYancey/Capitol_Faces/blob/main/src/save_faces.ipynb\" target=\"_parent\"><img src=\"https://colab.research.google.com/assets/colab-badge.svg\" alt=\"Open In Colab\"/></a>"
      ]
    },
    {
      "cell_type": "markdown",
      "source": [
        "# Save Faces\n",
        "This notebook takes the facelocations and saves off jpegs of those faces for quick access."
      ],
      "metadata": {
        "id": "n70nuZpkIQdU"
      }
    },
    {
      "cell_type": "code",
      "source": [
        "!pip install ffmpeg-python"
      ],
      "metadata": {
        "id": "w7gKIQkAIvlc",
        "outputId": "46afd896-2623-407e-c5c0-293e22abecff",
        "colab": {
          "base_uri": "https://localhost:8080/"
        }
      },
      "execution_count": 1,
      "outputs": [
        {
          "output_type": "stream",
          "name": "stdout",
          "text": [
            "Requirement already satisfied: ffmpeg-python in /usr/local/lib/python3.7/dist-packages (0.2.0)\n",
            "Requirement already satisfied: future in /usr/local/lib/python3.7/dist-packages (from ffmpeg-python) (0.16.0)\n"
          ]
        }
      ]
    },
    {
      "cell_type": "code",
      "source": [
        "import pandas as pd\n",
        "import sys\n",
        "import os\n",
        "import glob\n",
        "import cv2\n",
        "\n",
        "from google.colab import drive\n",
        "drive.mount('/content/gdrive')\n",
        "sys.path.append('/content/gdrive/MyDrive/repos/Capitol_Faces/src')\n",
        "from helpers import general as gen"
      ],
      "metadata": {
        "id": "DSOsaonlIYjd",
        "outputId": "29c85371-9b70-4608-e6c1-df023dda06c3",
        "colab": {
          "base_uri": "https://localhost:8080/"
        }
      },
      "execution_count": 2,
      "outputs": [
        {
          "output_type": "stream",
          "name": "stdout",
          "text": [
            "Drive already mounted at /content/gdrive; to attempt to forcibly remount, call drive.mount(\"/content/gdrive\", force_remount=True).\n"
          ]
        }
      ]
    },
    {
      "cell_type": "code",
      "source": [
        "data_path = '/content/gdrive/MyDrive/repos/Capitol_Faces/data/'\n",
        "df_faces = pd.read_csv(data_path + 'df_faces.csv')\n",
        "df_faces = df_faces.loc[df_faces['frame'].notnull(), ['id', 'vid_id', 'frame', 'position']]\n",
        "print(f'Number of faces in dataframe: {df_faces.shape[0]}')"
      ],
      "metadata": {
        "id": "Qkz1LftqIiJV",
        "outputId": "39aa749b-2ed1-4e58-8b52-8f791a3b57cf",
        "colab": {
          "base_uri": "https://localhost:8080/"
        }
      },
      "execution_count": 3,
      "outputs": [
        {
          "output_type": "stream",
          "name": "stdout",
          "text": [
            "Number of faces in dataframe: 2664\n"
          ]
        }
      ]
    },
    {
      "cell_type": "code",
      "source": [
        "face_list = glob.glob(data_path + 'faces/*')\n",
        "face_list = [int(os.path.basename(f)[:-4]) for f in face_list]\n",
        "print(f'Number of faces saved: {len(face_list)}')\n",
        "\n",
        "df_faces = df_faces.loc[~df_faces['id'].isin(face_list), :]\n",
        "print(f'Number of faces to save: {df_faces.shape[0]}')"
      ],
      "metadata": {
        "id": "O1nZZ3TDpieJ",
        "outputId": "de363c35-2222-4994-d4a8-07c4cb0d6568",
        "colab": {
          "base_uri": "https://localhost:8080/"
        }
      },
      "execution_count": 4,
      "outputs": [
        {
          "output_type": "stream",
          "name": "stdout",
          "text": [
            "Number of faces saved: 2657\n",
            "Number of faces to save: 7\n"
          ]
        }
      ]
    },
    {
      "cell_type": "code",
      "source": [
        "# sorts the dataframe so we don't reopen vidoes again\n",
        "df_faces.sort_values(['vid_id', 'frame'], ascending=True, inplace=True)\n",
        "\n",
        "# loop through the data frame\n",
        "file_name = ''\n",
        "for i, row in df_faces.iterrows():\n",
        "\n",
        "    # checks if we already have this file:\n",
        "    if row['id'] not in face_list:\n",
        "        print(row['id'])\n",
        "\n",
        "        # loads a new video if we have to\n",
        "        if file_name != data_path + 'video/' + row['vid_id'] + '.mp4':\n",
        "            file_name = data_path + 'video/' + row['vid_id'] + '.mp4'\n",
        "            cap = cv2.VideoCapture(file_name)\n",
        "            frame_count = 0\n",
        "            ret, frame = cap.read()\n",
        "        \n",
        "        # checks if we need to rotate the video\n",
        "        rotate = gen.rotate_value(data_path + 'video/' + row['vid_id'] + '.mp4')\n",
        "\n",
        "        # loops through to the spot of the face\n",
        "        while ret:\n",
        "            if frame_count == row['frame']:\n",
        "                # rotates if necissary\n",
        "                if rotate:\n",
        "                    frame = cv2.rotate(frame, cv2.ROTATE_90_CLOCKWISE)\n",
        "\n",
        "                # crops and saves the image\n",
        "                pos = eval(row['position'])\n",
        "                frame = frame[pos[0]:pos[2], pos[3]:pos[1]]\n",
        "                try:\n",
        "                    cv2.imwrite(f'{data_path}faces/{row[\"id\"]}.jpg', frame)\n",
        "                    print('Saved file')\n",
        "                except:\n",
        "                    print(f'Bad save attempt on {row[\"id\"]}')\n",
        "                break\n",
        "\n",
        "            frame_count += 1\n",
        "            ret, frame = cap.read()"
      ],
      "metadata": {
        "id": "p0286SWyp7GR"
      },
      "execution_count": null,
      "outputs": []
    }
  ]
}